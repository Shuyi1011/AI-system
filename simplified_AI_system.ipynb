{
  "cells": [
    {
      "cell_type": "code",
      "execution_count": 1,
      "metadata": {
        "id": "kn9hZkHo3oDI"
      },
      "outputs": [],
      "source": [
        "import os\n",
        "\n",
        "os.environ[\"OPENAI_API_KEY\"] = \"Your API Key\""
      ]
    },
    {
      "cell_type": "markdown",
      "metadata": {
        "id": "5wCswh6jDNdz"
      },
      "source": [
        "## asyncio AI communication"
      ]
    },
    {
      "cell_type": "code",
      "execution_count": null,
      "metadata": {
        "colab": {
          "base_uri": "https://localhost:8080/"
        },
        "id": "h-Uh2NXQ1EMh",
        "outputId": "61a761cb-5b6c-445c-a3d3-eb37bf898709"
      },
      "outputs": [
        {
          "name": "stdout",
          "output_type": "stream",
          "text": [
            "I (Agent Bob) Received messages 5 from Agent Alice. Now my state is 7\n",
            "I (Agent Bob) Received messages 10 from Agent Alice. Now my state is 17\n",
            "I (Agent Alice) Received messages 7 from Agent Bob. Now my state is 8\n",
            "I (Agent Alice) Received messages 17 from Agent Bob. Now my state is 25\n",
            "I (Agent Bob) Received messages 8 from Agent Alice. Now my state is 25\n",
            "I (Agent Bob) Received messages 25 from Agent Alice. Now my state is 50\n",
            "I (Agent Alice) Received messages 25 from Agent Bob. Now my state is 50\n",
            "I (Agent Alice) Received messages 50 from Agent Bob. Now my state is 100\n",
            "I (Agent Bob) Received messages 50 from Agent Alice. Now my state is 100\n",
            "I (Agent Bob) Received messages 100 from Agent Alice. Now my state is 200\n",
            "I (Agent Alice) Received messages 100 from Agent Bob. Now my state is 200\n",
            "I (Agent Alice) Received messages 200 from Agent Bob. Now my state is 400\n"
          ]
        }
      ],
      "source": [
        "from collections import deque\n",
        "import asyncio\n",
        "import nest_asyncio\n",
        "nest_asyncio.apply()\n",
        "\n",
        "class Agent:\n",
        "    def __init__(self, name: str, state: int, max_round: int):\n",
        "        # initialize the basic info\n",
        "        self.name = name\n",
        "        self.state = state\n",
        "        self.inbox = asyncio.PriorityQueue()\n",
        "        self.sent = asyncio.PriorityQueue()\n",
        "        self.agents = {}\n",
        "        self.round = 0\n",
        "        self.max_round = max_round\n",
        "\n",
        "\n",
        "    async def send_message(self, other_agent, message: int, priority):\n",
        "        await self.sent.put((priority, (other_agent.name, message)))\n",
        "        await other_agent.inbox.put((priority, (self.name, message)))\n",
        "\n",
        "    async def process_message(self):\n",
        "        while self.round <= self.max_round:\n",
        "          priority, full_message = await self.inbox.get()\n",
        "          sender = full_message[0]\n",
        "          message = full_message[1]\n",
        "          self.state += message\n",
        "          print(f\"I (Agent {self.name}) Received messages {message} from Agent {sender}. Now my state is {self.state}\")\n",
        "          self.round += 1\n",
        "          await self.send_message(self.agents[sender], self.state, priority)\n",
        "\n",
        "async def main():\n",
        "  agent1 = Agent('Alice', 1, 5)\n",
        "  agent2 = Agent('Bob', 2, 5)\n",
        "  agent1.agents[agent2.name] = agent2\n",
        "  agent2.agents[agent1.name] = agent1\n",
        "\n",
        "  task1 = asyncio.create_task(agent1.send_message(agent2, 10, 2))\n",
        "  task2 = asyncio.create_task(agent1.send_message(agent2, 5, 1))\n",
        "  task3 = asyncio.create_task(agent1.process_message())\n",
        "  task4 = asyncio.create_task(agent2.process_message())\n",
        "\n",
        "  await asyncio.sleep(2)\n",
        "\n",
        "asyncio.run(main())"
      ]
    },
    {
      "cell_type": "markdown",
      "metadata": {
        "id": "ky-HBgdvmmgV"
      },
      "source": [
        "## execute code module"
      ]
    },
    {
      "cell_type": "code",
      "execution_count": 4,
      "metadata": {
        "colab": {
          "base_uri": "https://localhost:8080/"
        },
        "id": "t7-sv3isDSue",
        "outputId": "d3f07958-33a5-494b-9b28-f70cc75aa7ac"
      },
      "outputs": [
        {
          "name": "stdout",
          "output_type": "stream",
          "text": [
            "*******LLM Generated Code:*******\n",
            " \n",
            "import sympy as sp\n",
            "\n",
            "# Define the variable\n",
            "x = sp.symbols('x')\n",
            "\n",
            "# Define the equation\n",
            "equation = sp.Eq(2*x + 5, 15)\n",
            "\n",
            "# Solve the equation\n",
            "result = sp.solve(equation, x)[0]\n",
            "\n",
            "*******Computed Result:*******\n",
            " 5\n",
            "*******Evaluation Result:*******\n",
            " Step-by-step reasoning:  \n",
            "1. Start with the equation: 2x + 5 = 15  \n",
            "2. Subtract 5 from both sides: 2x = 10  \n",
            "3. Divide both sides by 2: x = 5  \n",
            "4. The computed result is 5, and the provided answer is also 5.  \n",
            "5. Since 5 = 5, the answer is correct.  \n",
            "\n",
            "Final verdict: Correct  \n"
          ]
        }
      ],
      "source": [
        "from openai import OpenAI\n",
        "import ast\n",
        "\n",
        "def llm_parse_math_problem(problem):\n",
        "    \"\"\" Use LLM to parse a math problem and convert it into Python code \"\"\"\n",
        "    prompt = f\"Convert the following math problem into Python code. Only output the code block, and name the final result variable as 'result':\\n\\n{problem}\"\n",
        "\n",
        "    client = OpenAI()\n",
        "    response = client.chat.completions.create(\n",
        "        model=\"gpt-4o-mini\",\n",
        "        messages=[{\"role\": \"system\", \"content\": \"You are a math-solving assistant\"},\n",
        "                  {\"role\": \"user\", \"content\": prompt}]\n",
        "    )\n",
        "    code = response.choices[0].message.content\n",
        "    clean_code = code.strip(\"```python\").strip(\"```\")\n",
        "\n",
        "    return clean_code\n",
        "\n",
        "def execute_math_code(code):\n",
        "    \"\"\" Execute the Python code generated by LLM \"\"\"\n",
        "    try:\n",
        "        tree = ast.parse(code, mode='exec')  # Ensure the code is executable\n",
        "        exec_globals = {}\n",
        "        exec(code, exec_globals)\n",
        "        return exec_globals.get(\"result\", \"Undefined result\")\n",
        "    except Exception as e:\n",
        "        return f\"Code execution error: {str(e)}\"\n",
        "\n",
        "def score_answer(question, answer):\n",
        "    \"\"\" Scoring system: Use LLM to evaluate the correctness of the answer \"\"\"\n",
        "    # Use a CoT prompt to ensure the LLM can do the math correctly.\n",
        "    prompt = f\"\"\"\n",
        "    Check whether the answer to the following math problem is correct by following a step-by-step reasoning process. First, break down the problem and solve it step by step. Then, compare the computed result with the provided answer. Finally, return 'Correct' if they match, or 'Incorrect' otherwise.\n",
        "\n",
        "    Example:\n",
        "\n",
        "    Problem: Solve 3x + 7 = 16. What is the value of x?\n",
        "    Answer: 4\n",
        "\n",
        "    Step-by-step reasoning:\n",
        "    1. Start with the equation: 3x + 7 = 16\n",
        "    2. Subtract 7 from both sides: 3x = 9\n",
        "    3. Divide both sides by 3: x = 3\n",
        "    4. The computed result is 3, but the provided answer is 4.\n",
        "    5. Since 3 ≠ 4, the answer is incorrect.\n",
        "\n",
        "    Final verdict: Incorrect\n",
        "\n",
        "    Now, apply the same reasoning to the following problem.\n",
        "\n",
        "    Problem: {question}\n",
        "    Answer: {answer}\n",
        "\n",
        "    Provide a step-by-step solution and return either 'Correct' or 'Incorrect'.\"\"\"\n",
        "\n",
        "    client = OpenAI()\n",
        "    response = client.chat.completions.create(\n",
        "        model=\"gpt-4o-mini\",\n",
        "        messages=[{\"role\": \"system\", \"content\": \"You are a grader\"},\n",
        "                  {\"role\": \"user\", \"content\": prompt}]\n",
        "    )\n",
        "    return response.choices[0].message.content\n",
        "\n",
        "\n",
        "# Test example\n",
        "math_problem = \"Solve 2x + 5 = 15. What is the value of x?\"\n",
        "\n",
        "# Step 1: LLM parses the math problem\n",
        "generated_code = llm_parse_math_problem(math_problem)\n",
        "print(\"*******LLM Generated Code:*******\\n\", generated_code)\n",
        "\n",
        "# Step 2: Execute the code\n",
        "math_answer = execute_math_code(generated_code)\n",
        "print(\"*******Computed Result:*******\\n\", math_answer)\n",
        "\n",
        "# Step 3: Evaluate the answer using the scoring model\n",
        "evaluation = score_answer(math_problem, math_answer)\n",
        "print(\"*******Evaluation Result:*******\\n\", evaluation)"
      ]
    },
    {
      "cell_type": "markdown",
      "metadata": {
        "id": "n_4d_CWrR8qp"
      },
      "source": [
        "## multi-agent collaboration"
      ]
    },
    {
      "cell_type": "markdown",
      "metadata": {
        "id": "QPcnwfeASEJP"
      },
      "source": [
        "(1) code execution\\\n",
        "(2) Tool using (like google API?)\\\n",
        "(3) communication module\\\n",
        "(4) plan module\\\n",
        "(5) RAG module\n"
      ]
    },
    {
      "cell_type": "code",
      "execution_count": null,
      "metadata": {
        "id": "r8CDiBIfhZou"
      },
      "outputs": [],
      "source": [
        "import re\n",
        "import json\n",
        "\n",
        "class Agent:\n",
        "  def __init__(self, name, profile):\n",
        "    self.name = name\n",
        "    self.profile = profile\n",
        "    self.response = None\n",
        "    self.friends = {}\n",
        "    self.inbox = []\n",
        "    self.sent = []\n",
        "    self.round = 0\n",
        "    self.max_round = 2\n",
        "    self.position = []\n",
        "\n",
        "  def send_message(self, receiver, message):\n",
        "    self.sent.append((receiver.name, message))\n",
        "    print(f\"{self.name} send a message to {receiver.name}. (message: {message})\")\n",
        "    receiver.inbox.append((self.name, message))\n",
        "\n",
        "  def process_message(self):\n",
        "    client = OpenAI()\n",
        "    for key, value in self.friends.items():\n",
        "      if key not in self.position:\n",
        "        self.position.append(key)\n",
        "\n",
        "    if self.inbox and self.round <= self.max_round * 2:\n",
        "      response = client.chat.completions.create(\n",
        "          model=\"gpt-4o-mini\",\n",
        "          messages=[{\"role\": \"system\", \"content\": f\"This is your profile: {self.profile}.\"\n",
        "                                                  f\"Your team members are: {self.position}.\"\n",
        "                                                  \"\"\"Collabrate with your team members to solve your tasks that the manager assigned to you. Return your response. And return your communication message in the valid json format: {\"Alice\": \"please write code for me to solve this problem.\"} Remember to replace 'Alice' with your real team member's name.\"\"\"} ,\n",
        "                    {\"role\": \"user\", \"content\": f\"This is your task{self.inbox}\"}]\n",
        "          )\n",
        "      clean_response = response.choices[0].message.content\n",
        "      print(f'----------message from {self.name}----------')\n",
        "      print(f\"As a {self.name}, my answer to this question is: {clean_response}\")\n",
        "      self.round += 1\n",
        "      tasks = self.parse_response(clean_response)\n",
        "      if tasks:\n",
        "        self.communicate(tasks)\n",
        "\n",
        "  def parse_response(self, response):\n",
        "    communication = re.search(r\"\\{.*\\}\", response, re.DOTALL)\n",
        "    if communication:\n",
        "      return json.loads(communication.group(0))\n",
        "    return None\n",
        "\n",
        "  def communicate(self, task_dict):\n",
        "    for agent, task in task_dict.items():\n",
        "      self.send_message(self.friends[agent], task)\n"
      ]
    },
    {
      "cell_type": "code",
      "execution_count": null,
      "metadata": {
        "id": "kgxOUC7QR7Go"
      },
      "outputs": [],
      "source": [
        "from openai import OpenAI\n",
        "\n",
        "class Planner(Agent):\n",
        "  def __init__(self, name, profile, task):\n",
        "    super().__init__(name, profile)\n",
        "    self.task = task\n",
        "    self.teams = {}\n",
        "    self.progress = None\n",
        "\n",
        "  def generate_plan(self):\n",
        "    client = OpenAI()\n",
        "    response = client.chat.completions.create(\n",
        "        model=\"gpt-4o-mini\",\n",
        "        messages=[{\"role\": \"system\", \"content\": \"\"\"You're a planner. You'll receive a task, and team members' profile. Assign tasks to them. Return your plan in the valid json format: {\"Alice\": \"do the literature review\", \"Bob\": \"write code\"}\"\"\"},\n",
        "                  {\"role\": \"user\", \"content\": f\"Your task is: {self.task}. Your team members are: {self.friends['Thinker'].name} and {self.friends['Programmer'].name}\"}]\n",
        "        )\n",
        "    clean_plan = response.choices[0].message.content\n",
        "    tasks = self.parse_response(clean_plan)\n",
        "    self.communicate(tasks)\n"
      ]
    },
    {
      "cell_type": "code",
      "execution_count": null,
      "metadata": {
        "id": "4owc4BpY8fzU"
      },
      "outputs": [],
      "source": [
        "class programmer(Agent):\n",
        "  def __init__(self, name, profile):\n",
        "    super().__init__(name, profile)\n"
      ]
    },
    {
      "cell_type": "code",
      "execution_count": null,
      "metadata": {
        "id": "sIFGk2D9qyld"
      },
      "outputs": [],
      "source": [
        "class Engine:\n",
        "  def __init__(self, planner_name):\n",
        "    self.agents = {}\n",
        "    self.planner_name = planner_name\n",
        "\n",
        "  def add_agent(self, agent):\n",
        "    self.agents[agent.name] = agent\n",
        "\n",
        "  def add_friends(self, friends):\n",
        "    for agent, friend in friends.items():\n",
        "      for f in friend:\n",
        "        self.agents[agent].friends[f] = self.agents[f]\n",
        "\n",
        "  def run(self):\n",
        "    planner = self.agents[self.planner_name]\n",
        "    planner.generate_plan()\n",
        "\n",
        "    for name, agent in self.agents.items():\n",
        "      agent.process_message()"
      ]
    },
    {
      "cell_type": "code",
      "execution_count": null,
      "metadata": {
        "colab": {
          "base_uri": "https://localhost:8080/"
        },
        "id": "tV4DrV_iye8i",
        "outputId": "b5b6bd24-fbf8-4ce1-daf5-d06df78724d2"
      },
      "outputs": [
        {
          "name": "stdout",
          "output_type": "stream",
          "text": [
            "Boss send a message to Thinker. (message: solve for x in the equation 2x + 5 = 15)\n",
            "Boss send a message to Programmer. (message: write a program to compute x)\n",
            "----------message from Thinker----------\n",
            "As a Thinker, my answer to this question is: To solve the equation 2x + 5 = 15 for x, I will follow these steps:\n",
            "\n",
            "1. **Isolate the term with x**: Subtract 5 from both sides of the equation.\n",
            "2. **Perform the subtraction**: This will give us 2x = 15 - 5.\n",
            "3. **Simplify**: So now we have 2x = 10.\n",
            "4. **Solve for x**: Divide both sides by 2, which results in x = 10 / 2.\n",
            "5. **Final value**: Thus, x = 5.\n",
            "\n",
            "Now, I will ask my Programmer team member to write code to solve similar equations programmatically.\n",
            "\n",
            "Here's my communication message to my team member formatted in JSON:\n",
            "\n",
            "{\"Programmer\": \"please write code for me to solve this problem.\"}\n",
            "Thinker send a message to Programmer. (message: please write code for me to solve this problem.)\n",
            "----------message from Programmer----------\n",
            "As a Programmer, my answer to this question is: ```python\n",
            "# Program to compute x\n",
            "def compute_x(value):\n",
            "    # Example computation for x\n",
            "    x = value * 2  # Replace with actual computation logic\n",
            "    return x\n",
            "\n",
            "# Example usage\n",
            "result = compute_x(5)\n",
            "print(result)\n",
            "```\n",
            "{\"Thinker\": \"please write code for me to solve this problem.\"}\n",
            "Programmer send a message to Thinker. (message: please write code for me to solve this problem.)\n"
          ]
        }
      ],
      "source": [
        "engine = Engine('Boss')\n",
        "\n",
        "planner = Planner(name = \"Boss\", profile = \"You're a planner.\", task = \"2x + 5 = 15, what is x?\")\n",
        "CoT = Agent(\"Thinker\", \"You will be given a question. Think about it in a step by step way.\")\n",
        "programmer = Agent(\"Programmer\", \"You will be give a question. Solve it by writing python code. Only return the code!\")\n",
        "\n",
        "engine.add_agent(planner)\n",
        "engine.add_agent(CoT)\n",
        "engine.add_agent(programmer)\n",
        "\n",
        "engine.add_friends({'Boss': ['Thinker', 'Programmer'],\n",
        "                    'Thinker': ['Programmer'],\n",
        "                    'Programmer': ['Thinker']})\n",
        "\n",
        "engine.run()"
      ]
    },
    {
      "cell_type": "markdown",
      "metadata": {
        "id": "Vh6PZmlh6jS9"
      },
      "source": [
        "## Graph of Thoughts"
      ]
    },
    {
      "cell_type": "code",
      "execution_count": 5,
      "metadata": {
        "colab": {
          "base_uri": "https://localhost:8080/"
        },
        "id": "q2xiXmgl6lJu",
        "outputId": "5e60b109-18af-4340-910a-eb4b20f10e36"
      },
      "outputs": [
        {
          "name": "stdout",
          "output_type": "stream",
          "text": [
            "Node 0: Solve 2x + 5 = 15\n",
            "Node 1: To solve the equation \\(2x + 5 = 15\\), the next step is to isolate the term containing \\(x\\). You can do this by subtracting 5 from both sides of the equation:\n",
            "\n",
            "\\[\n",
            "2x + 5 - 5 = 15 - 5\n",
            "\\]\n",
            "\n",
            "This simplifies to:\n",
            "\n",
            "\\[\n",
            "2x = 10\n",
            "\\]\n",
            "\n",
            "Now you can proceed to the next steps, such as dividing by 2 to solve for \\(x\\).\n",
            "Node 2: The next step is to isolate \\(x\\) by dividing both sides of the equation \\(2x = 10\\) by 2. \n",
            "\n",
            "This will give:\n",
            "\n",
            "\\[\n",
            "\\frac{2x}{2} = \\frac{10}{2}\n",
            "\\]\n",
            "\n",
            "This simplifies to:\n",
            "\n",
            "\\[\n",
            "x = 5\n",
            "\\]\n",
            "\n",
            "So the solution to the equation \\(2x + 5 = 15\\) is \\(x = 5\\).\n",
            "Node 3: It seems there is a slight confusion in the concluding statement. The initial equation given was \\(2x = 10\\), and you correctly found that \\(x = 5\\). However, the statement later refers to solving \\(2x + 5 = 15\\). \n",
            "\n",
            "To solve the equation \\(2x + 5 = 15\\), the next step after isolating \\(x\\) would be to subtract 5 from both sides of the equation:\n",
            "\n",
            "\\[\n",
            "2x + 5 - 5 = 15 - 5\n",
            "\\]\n",
            "\n",
            "This simplifies to:\n",
            "\n",
            "\\[\n",
            "2x = 10\n",
            "\\]\n",
            "\n",
            "Now, you would then divide both sides by 2 to isolate \\(x\\):\n",
            "\n",
            "\\[\n",
            "\\frac{2x}{2} = \\frac{10}{2}\n",
            "\\]\n",
            "\n",
            "This simplifies to:\n",
            "\n",
            "\\[\n",
            "x = 5\n",
            "\\]\n",
            "\n",
            "Thus, the solution to the equation \\(2x + 5 = 15\\) is indeed \\(x = 5\\).\n",
            "Node 4: The next step in solving the problem would depend on whether there are additional equations or problems that need to be addressed. However, based on the context provided, you've successfully solved the equation \\(2x + 5 = 15\\) and found that \\(x = 5\\).\n",
            "\n",
            "If the goal is to confirm this solution, you could substitute \\(x = 5\\) back into the original equation to verify that it holds true:\n",
            "\n",
            "\\[\n",
            "2(5) + 5 = 15\n",
            "\\]\n",
            "\\[\n",
            "10 + 5 = 15\n",
            "\\]\n",
            "\n",
            "Since both sides match, the solution is verified.\n",
            "\n",
            "If there are related problems or equations to solve, you could move on to those next. If this is the only task at hand, you could conclude that the solution to the equation was indeed found correctly and is \\(x = 5\\).\n",
            "Node 5: Since you've successfully verified the solution to the equation \\(2x + 5 = 15\\) and found that \\(x = 5\\), the next step depends on your objectives.\n",
            "\n",
            "1. **If there are additional equations or problems to solve:** Move on to those. Take the same approach of isolating the variable and verifying the solution afterward.\n",
            "\n",
            "2. **If you want to extend your knowledge:** You could explore similar equations, try different methods (like graphing or using substitution with systems of equations), or even investigate the implications of the solution in a broader context.\n",
            "\n",
            "3. **If this is a step in a larger process:** Consider how \\(x = 5\\) may interact with other variables or equations in your analysis.\n",
            "\n",
            "4. **If you aim to practice further:** You could generate similar equations to solve, or even challenge yourself with more complex equations or systems of equations.\n",
            "\n",
            "In summary, if there are no further tasks at hand, you can conclude that you have resolved that particular equation correctly. If there are other topics or problems, you should proceed with those next!\n"
          ]
        }
      ],
      "source": [
        "import networkx as nx\n",
        "import openai\n",
        "\n",
        "class GraphOfThoughts:\n",
        "    def __init__(self):\n",
        "        self.graph = nx.DiGraph()\n",
        "        self.llm_client = openai.Client()  # Connect to OpenAI API\n",
        "\n",
        "    def add_thought(self, node_id, thought, parent_id=None):\n",
        "        \"\"\"Add a new thought node\"\"\"\n",
        "        self.graph.add_node(node_id, thought=thought)\n",
        "        if parent_id is not None:\n",
        "            self.graph.add_edge(parent_id, node_id)  # Connect to the previous thought step\n",
        "\n",
        "    def generate_thought(self, previous_thought):\n",
        "        \"\"\"Generate a new thought using LLM\"\"\"\n",
        "        response = self.llm_client.chat.completions.create(\n",
        "            model=\"gpt-4o-mini\",\n",
        "            messages=[\n",
        "                {\"role\": \"system\", \"content\": \"You're an AI problem solver.\"},\n",
        "                {\"role\": \"user\", \"content\": f\"Given the previous thought: '{previous_thought}', what should be the next step in solving the problem?\"}\n",
        "            ]\n",
        "        )\n",
        "        return response.choices[0].message.content\n",
        "\n",
        "    def expand_graph(self, start_node):\n",
        "        \"\"\"Recursively expand the thought graph using LLM\"\"\"\n",
        "        stack = [start_node]\n",
        "        node_id = 1\n",
        "\n",
        "        while stack and node_id <= 5:  # Limit reasoning depth to 5 levels\n",
        "            current_node = stack.pop()\n",
        "            previous_thought = self.graph.nodes[current_node][\"thought\"]\n",
        "\n",
        "            # Generate a new thought step\n",
        "            new_thought = self.generate_thought(previous_thought)\n",
        "            self.add_thought(node_id, new_thought, current_node)\n",
        "            stack.append(node_id)\n",
        "            node_id += 1\n",
        "\n",
        "    def print_graph(self):\n",
        "        \"\"\"Print the thought process\"\"\"\n",
        "        for node, data in self.graph.nodes(data=True):\n",
        "            print(f\"Node {node}: {data['thought']}\")\n",
        "\n",
        "# Initialize GoT\n",
        "got = GraphOfThoughts()\n",
        "\n",
        "# Add the initial thought (problem)\n",
        "got.add_thought(0, \"Solve 2x + 5 = 15\")\n",
        "\n",
        "# Expand the thought path\n",
        "got.expand_graph(0)\n",
        "\n",
        "# Output the thought process\n",
        "got.print_graph()"
      ]
    },
    {
      "cell_type": "markdown",
      "metadata": {
        "id": "2oV80ngp0t_w"
      },
      "source": [
        "## ChatBot"
      ]
    },
    {
      "cell_type": "markdown",
      "metadata": {
        "id": "r4TdigncknZy"
      },
      "source": [
        "planner: assign tasks to different agents\\\n",
        "agents: programmer for code, writer for general response"
      ]
    },
    {
      "cell_type": "code",
      "execution_count": null,
      "metadata": {
        "colab": {
          "base_uri": "https://localhost:8080/"
        },
        "id": "AySD6-4Vdlao",
        "outputId": "666c51ee-9294-4c1c-f52d-c5fff0ae890c"
      },
      "outputs": [
        {
          "name": "stdout",
          "output_type": "stream",
          "text": [
            "Hi! How can I help you? \n",
            "Hi!\n",
            "==========writer response==========\n",
            "I have received your input, and we will contact you later!\n",
            "Hi! How can I help you? \n",
            "I want to code!\n",
            "==========programmer response==========\n",
            "print(\"a = 100\")\n",
            "Hi! How can I help you? \n",
            "exit\n",
            "==========chatbot response==========\n",
            "GoodBye!\n"
          ]
        }
      ],
      "source": [
        "class Agent:\n",
        "  def __init__(self, name, role):\n",
        "    self.name = name\n",
        "    self.role = role\n",
        "    self.inbox = []\n",
        "    self.sent = []\n",
        "    self.friends = {}\n",
        "\n",
        "  def send_message(self, receiver: str, message):\n",
        "    self.friends[receiver].inbox.append((self.name, message))\n",
        "    self.sent.append((receiver, message))\n",
        "\n",
        "  def process_message(self):\n",
        "    if self.inbox:\n",
        "      message = self.inbox.pop()\n",
        "      if self.name == 'planner':\n",
        "        if 'code' in message:\n",
        "          self.send_message('programmer', message)\n",
        "        else:\n",
        "          self.send_message('writer', message)\n",
        "      elif self.name == 'programmer':\n",
        "        response = 'print(\"a = 100\")'\n",
        "        print(\"==========programmer response==========\")\n",
        "        print(response)\n",
        "      else:\n",
        "        response = 'I have received your input, and we will contact you later!'\n",
        "        print(\"==========writer response==========\")\n",
        "        print(response)\n",
        "\n",
        "  def parse(self):\n",
        "    pass\n",
        "\n",
        "  def communicate(self):\n",
        "    pass\n",
        "\n",
        "class Engine:\n",
        "  def __init__(self):\n",
        "    self.agents = {}\n",
        "\n",
        "  def add_agents(self, agent):\n",
        "    self.agents[agent.name] = agent\n",
        "\n",
        "  def add_friends(self, relationship):\n",
        "    for me, friends in relationship.items():\n",
        "      for friend in friends:\n",
        "        self.agents[me].friends[friend] = self.agents[friend]\n",
        "\n",
        "  def run(self):\n",
        "    while True:\n",
        "      user_input = input(f\"Hi! How can I help you? \\n\")\n",
        "      if 'exit' in user_input:\n",
        "        print(\"==========chatbot response==========\")\n",
        "        print(\"GoodBye!\")\n",
        "        break\n",
        "      self.agents['planner'].inbox.append(user_input)\n",
        "      # while any(agent.inbox for agent in self.agents.values()):\n",
        "      for agent_name, agent in self.agents.items():\n",
        "        agent.process_message()\n",
        "\n",
        "\n",
        "engine = Engine()\n",
        "planner = Agent('planner', 'To assign tasks.')\n",
        "writer = Agent('writer', 'To answer general questions.')\n",
        "programmer = Agent('programmer', 'To write code.')\n",
        "\n",
        "relationship = {'planner': ['writer', 'programmer']}\n",
        "engine.add_agents(planner)\n",
        "engine.add_agents(writer)\n",
        "engine.add_agents(programmer)\n",
        "engine.add_friends(relationship)\n",
        "\n",
        "\n",
        "engine.run()"
      ]
    },
    {
      "cell_type": "markdown",
      "metadata": {
        "id": "1239Xb59nEBV"
      },
      "source": [
        "## Markov Text Generator"
      ]
    },
    {
      "cell_type": "code",
      "execution_count": null,
      "metadata": {
        "colab": {
          "base_uri": "https://localhost:8080/"
        },
        "id": "8HEVk6qhrhLO",
        "outputId": "6f0c1dc8-2c3c-4cee-ad9f-69bac517be5d"
      },
      "outputs": [
        {
          "name": "stdout",
          "output_type": "stream",
          "text": [
            "AI is the future. AI can generate text.\n"
          ]
        }
      ],
      "source": [
        "import random\n",
        "\n",
        "class MarkovTextGenerator:\n",
        "    def __init__(self, text):\n",
        "        self.model = {}\n",
        "        words = text.split()\n",
        "        for i in range(len(words) - 1):\n",
        "            key = words[i]\n",
        "            if key not in self.model:\n",
        "                self.model[key] = []\n",
        "            self.model[key].append(words[i + 1])\n",
        "\n",
        "    def generate(self, start_word, length=10):\n",
        "        result = [start_word]\n",
        "        for _ in range(length):\n",
        "            next_word = random.choice(self.model.get(result[-1], [\"END\"]))\n",
        "            if next_word == \"END\":\n",
        "                break\n",
        "            result.append(next_word)\n",
        "        return \" \".join(result)\n",
        "\n",
        "text = \"AI is amazing. AI is the future. AI can generate text.\"\n",
        "generator = MarkovTextGenerator(text)\n",
        "print(generator.generate(\"AI\"))"
      ]
    },
    {
      "cell_type": "markdown",
      "metadata": {
        "id": "ctghd6lBplDE"
      },
      "source": [
        "## Tool using"
      ]
    },
    {
      "cell_type": "code",
      "execution_count": null,
      "metadata": {
        "colab": {
          "base_uri": "https://localhost:8080/"
        },
        "id": "N35ihnQC2dAW",
        "outputId": "e881f23d-0268-4152-fb00-f516a45b7b11"
      },
      "outputs": [
        {
          "name": "stdout",
          "output_type": "stream",
          "text": [
            "{'temperature': '15°C', 'condition': 'Cloudy'}\n"
          ]
        }
      ],
      "source": [
        "from openai import OpenAI\n",
        "\n",
        "client = OpenAI()\n",
        "\n",
        "def get_weather(location):\n",
        "    weather_data = {\n",
        "        \"Paris, France\": {\"temperature\": \"15°C\", \"condition\": \"Cloudy\"},\n",
        "        \"New York, USA\": {\"temperature\": \"22°C\", \"condition\": \"Sunny\"},\n",
        "        \"Beijing, China\": {\"temperature\": \"10°C\", \"condition\": \"Smoggy\"}\n",
        "    }\n",
        "    return weather_data.get(location, {\"temperature\": \"Unknown\", \"condition\": \"Unknown\"})\n",
        "\n",
        "tools = [{\n",
        "    \"type\": \"function\",\n",
        "    \"function\": {\n",
        "        \"name\": \"get_weather\",\n",
        "        \"description\": \"Get current temperature for a given location.\",\n",
        "        \"parameters\": {\n",
        "            \"type\": \"object\",\n",
        "            \"properties\": {\n",
        "                \"location\": {\n",
        "                    \"type\": \"string\",\n",
        "                    \"description\": \"City and country e.g. Bogotá, Colombia\"\n",
        "                }\n",
        "            },\n",
        "            \"required\": [\n",
        "                \"location\"\n",
        "            ],\n",
        "            \"additionalProperties\": False\n",
        "        },\n",
        "        \"strict\": True\n",
        "    }\n",
        "}]\n",
        "\n",
        "completion = client.chat.completions.create(\n",
        "    model=\"gpt-4o\",\n",
        "    messages=[{\"role\": \"user\", \"content\": \"What is the weather like in Paris today?\"}],\n",
        "    tools=tools\n",
        ")\n",
        "\n",
        "tool_calls = completion.choices[0].message.tool_calls\n",
        "if tool_calls:\n",
        "    for call in tool_calls:\n",
        "        function_name = call.function.name\n",
        "        arguments = json.loads(call.function.arguments)\n",
        "\n",
        "        if function_name == \"get_weather\":\n",
        "            location = arguments[\"location\"]\n",
        "            weather_info = get_weather(location)\n",
        "            print(weather_info)\n"
      ]
    },
    {
      "cell_type": "markdown",
      "metadata": {
        "id": "kkllkORv45b7"
      },
      "source": [
        "## example"
      ]
    },
    {
      "cell_type": "code",
      "execution_count": null,
      "metadata": {
        "id": "Yt8-ACPI47ea"
      },
      "outputs": [],
      "source": [
        "class TaskManager:\n",
        "  def __init__(self, job):\n",
        "    self.task = {}\n",
        "    self.team = {}\n",
        "    self.job = job\n",
        "\n",
        "  def add_task(self, task_id, task_type):\n",
        "    self.task[task_id] = task_type\n",
        "\n",
        "  def process_tasks(self):\n",
        "    for task_id, task_type in self.task.items():\n",
        "      self.team[task_type].task[task_id] = task_type\n",
        "      print(f\"Task Manager has already assigned task {task_id} to {task_type} processor.\")\n",
        "\n",
        "\n",
        "class Processor:\n",
        "  def __init__(self, job):\n",
        "    self.job = job\n",
        "    self.task = {}\n",
        "    self.team = {}\n",
        "\n",
        "  def process_tasks(self):\n",
        "    if self.job == 'text':\n",
        "      for task_id, task_type in self.task.items():\n",
        "        print(f'Process text task {task_id}')\n",
        "    else:\n",
        "      for task_id, task_type in self.task.items():\n",
        "        print(f'Process image task {task_id}')\n",
        "\n",
        "class Engine:\n",
        "  def __init__(self):\n",
        "    self.team = {}\n",
        "\n",
        "  def add_agent(self, agent):\n",
        "    self.team[agent.job] = agent\n",
        "\n",
        "  def add_friends(self, relationship):\n",
        "    for me, friend in relationship.items():\n",
        "      for f in friend:\n",
        "        self.team[me].team[f] = self.team[f]\n",
        "\n",
        "  def run(self):\n",
        "    # while self.team['manager'].task:\n",
        "    self.team['manager'].process_tasks()\n",
        "    for job, agent in self.team['manager'].team.items():\n",
        "      self.team[job].process_tasks()\n"
      ]
    },
    {
      "cell_type": "code",
      "execution_count": null,
      "metadata": {
        "colab": {
          "base_uri": "https://localhost:8080/"
        },
        "id": "VdvOOirj46wj",
        "outputId": "27656963-528d-4b0d-e827-d8ef2b65f8cc"
      },
      "outputs": [
        {
          "name": "stdout",
          "output_type": "stream",
          "text": [
            "Task Manager has already assigned task 1 to text processor.\n",
            "Task Manager has already assigned task 2 to image processor.\n",
            "Task Manager has already assigned task 3 to text processor.\n",
            "Process text task 1\n",
            "Process text task 3\n",
            "Process image task 2\n"
          ]
        }
      ],
      "source": [
        "relationship = {'manager': ['text', 'image']}\n",
        "tm = TaskManager('manager')\n",
        "tx = Processor('text')\n",
        "ig = Processor('image')\n",
        "\n",
        "tm.add_task(1, \"text\")\n",
        "tm.add_task(2, \"image\")\n",
        "tm.add_task(3, \"text\")\n",
        "\n",
        "engine = Engine()\n",
        "engine.add_agent(tm)\n",
        "engine.add_agent(tx)\n",
        "engine.add_agent(ig)\n",
        "\n",
        "engine.add_friends(relationship)\n",
        "engine.run()"
      ]
    }
  ],
  "metadata": {
    "colab": {
      "provenance": []
    },
    "kernelspec": {
      "display_name": "base",
      "language": "python",
      "name": "python3"
    },
    "language_info": {
      "name": "python",
      "version": "3.9.12"
    }
  },
  "nbformat": 4,
  "nbformat_minor": 0
}
